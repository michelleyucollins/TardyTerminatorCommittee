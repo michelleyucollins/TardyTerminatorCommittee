{
 "cells": [
  {
   "cell_type": "code",
   "execution_count": 19,
   "metadata": {},
   "outputs": [],
   "source": [
    "import pandas as pd\n",
    "import numpy as np\n",
    "from datetime import datetime\n",
    "import json\n",
    "from tqdm.notebook import tqdm"
   ]
  },
  {
   "cell_type": "code",
   "execution_count": 4,
   "metadata": {},
   "outputs": [],
   "source": [
    "bus_prefix = \"./data/delays/ttc-bus-delay-data-\"\n",
    "file_names = []\n",
    "for i in range(2016, 2025):\n",
    "    file_names.append(f\"{bus_prefix}{i}.xlsx\")"
   ]
  },
  {
   "cell_type": "code",
   "execution_count": null,
   "metadata": {},
   "outputs": [],
   "source": [
    "def combine_all_sheets_to_csv(file_names, output_csv=\"combined.csv\"):\n",
    "    \"\"\"\n",
    "    Reads all sheets from every Excel file in file_names (without interpreting any row as header),\n",
    "    concatenates the data from all sheets vertically, and exports the combined data to a CSV file\n",
    "    without any column headers.\n",
    "\n",
    "    Parameters:\n",
    "        file_names (list of str): List of paths to Excel files.\n",
    "        output_csv (str): The path for the output CSV file.\n",
    "    \"\"\"\n",
    "    all_data = []\n",
    "\n",
    "    column_data = ['Report Date','Route','Time','Day','Location','Incident', 'Min Delay','Min Gap','Direction','Vehicle']\n",
    "\n",
    "    for file in file_names:\n",
    "        # Open the excel sheet\n",
    "        try:\n",
    "            excel_file = pd.ExcelFile(file)\n",
    "        except Exception as e:\n",
    "            print(f\"Error opening file '{file}': {e}\")\n",
    "            continue\n",
    "\n",
    "        # Read and append values for each sheet in the file\n",
    "        for sheet in excel_file.sheet_names:\n",
    "            try:\n",
    "                # Header is first row\n",
    "                dummy = pd.read_excel(excel_file, sheet_name=sheet, header=0)\n",
    "                dummy.columns = column_data\n",
    "                all_data.append(dummy)\n",
    "            except Exception as e:\n",
    "                print(f\"Error reading sheet '{sheet}' in file '{file}': {e}\")\n",
    "                continue\n",
    "\n",
    "    if not all_data:\n",
    "        print(\"There was no data in any file given or the passed file_name vector was empty\")\n",
    "        return\n",
    "\n",
    "    # Concat all the data vertically\n",
    "    combined_df = pd.concat(all_data, ignore_index=True)\n",
    "    combined_df.columns = column_data\n",
    "\n",
    "    try:\n",
    "        # Export to CSV without column headers and without the index.\n",
    "        combined_df.to_csv(output_csv, header=column_data, index=False)\n",
    "        print(f\"Combined data successfully exported to '{output_csv}'.\")\n",
    "    except Exception as e:\n",
    "        print(f\"Error exporting data to CSV: {e}\")"
   ]
  },
  {
   "cell_type": "code",
   "execution_count": null,
   "metadata": {},
   "outputs": [
    {
     "name": "stdout",
     "output_type": "stream",
     "text": [
      "Combined data successfully exported to './data/delays/bus-delay-data-2016-2024.csv'.\n"
     ]
    }
   ],
   "source": [
    "# Combine all sheets to csv file and process the csv file\n",
    "combine_all_sheets_to_csv(file_names, output_csv=\"./data/delays/bus-delay-data-2016-2024.csv\")\n",
    "# !!!!!!!!!!!!!!!!!!DATE TIME PROCESSING MUST BE DONE LOCALLY IN EXCEL THIS NEARLY CRASHED MY COMPUTER!!!!!!!!!!!!!!!!!"
   ]
  },
  {
   "cell_type": "code",
   "execution_count": null,
   "metadata": {},
   "outputs": [],
   "source": [
    "def pre_processing_full_ttc_csv(file_name, dict_file_name = \"info.json\"): \n",
    "    '''\n",
    "    Function for processing TTC delay data stored in a CSV file. This function must be run prior to further analysis to allow for some\n",
    "    functions to run smoothly.\n",
    "    Manual grunt work may be needed for certain data cleaning, which is why print statements are added for some brief manual parsing\n",
    "\n",
    "    Input: file name of a TTC Delay CSV File; (optional) file name of a data_dict dump file, if empty it is defaulted to 'info.json'\n",
    "    Output: returns a dictionary of data for the specified file_name (unique categoricies for a feature, etc)\n",
    "\n",
    "    Note: the Data Dictionary is also stored as a JSON file for later use if needed\n",
    "    '''\n",
    "    df = pd.read_csv(file_name)\n",
    "    column_data = df.columns\n",
    "    data_dict = {}\n",
    "    for col in column_data:\n",
    "        df[col] = df[col].apply(lambda x: x.lower() if isinstance(x, str) else x)\n",
    "        if isinstance(df[col][1], str) and col != 'DateTime' and col != 'Report Date' and col != 'Time' and col != 'Day':\n",
    "            data_dict[col] = df[col].unique().tolist()\n",
    "            print(data_dict[col])\n",
    "    \n",
    "    df.to_csv(file_name, index='DateTime')\n",
    "    \n",
    "    with open(dict_file_name, \"w\") as outfile: \n",
    "        json.dump(data_dict, outfile)\n",
    "        \n",
    "    return data_dict\n",
    "\n"
   ]
  },
  {
   "cell_type": "code",
   "execution_count": 49,
   "metadata": {},
   "outputs": [
    {
     "name": "stderr",
     "output_type": "stream",
     "text": [
      "/var/folders/xt/5my4_t657l5dvcsk9ybkb_ww0000gn/T/ipykernel_31598/3657935332.py:12: DtypeWarning: Columns (2) have mixed types. Specify dtype option on import or set low_memory=False.\n",
      "  df = pd.read_csv(file_name)\n"
     ]
    },
    {
     "name": "stdout",
     "output_type": "stream",
     "text": [
      "['longbranch loop' 'kipling stn' 'royal york at romney rd' ...\n",
      " '16 lebovic' 'runnymede station (out' 'sloane abd tinder cres']\n",
      "['mechanical' 'investigation' 'utilized off route' 'late leaving garage'\n",
      " 'general delay' 'diversion' 'emergency services' 'vision' nan\n",
      " 'late leaving garage - operator' 'late leaving garage - mechanical'\n",
      " 'late leaving garage - management' 'late leaving garage - vision'\n",
      " 'management' 'operations - operator' 'cleaning' 'security'\n",
      " 'collision - ttc' 'road blocked - non-ttc collision'\n",
      " 'road block - non-ttc collision' 'roadblock by collision - non-ttc'\n",
      " 'securitty' 'late entering service - mechanical' 'utilizing off route'\n",
      " 'held by' 'late leaving garage - operations' 'e' 'late entering service'\n",
      " 'collision - ttc ' 'operations' 'cleaning - unsanitary'\n",
      " 'cleaning - disinfection' 'collision - ttc involved' 'late' 'overhead'\n",
      " 'rail/switches']\n",
      "['n/b' 'sb' 'nb' 'e/b' 'e' 'w' 'w/b' 's/b' 's' \"b/w's\" 'n' 'eb' 'wb' 'b/w'\n",
      " 'bw' 'down' nan 'ob' 'up' 'bothways' 'b' 'r' 'e/w' 'n /b' 'both way'\n",
      " 'both ways' 'sbnb' '73731' '15nb' 'dup' '65915' '22619' 'n/s' '68259'\n",
      " '/b' \"n/b'\" 'n/n' '72389' '11' '66314' '71846' 'e/bb' 'n/' 's=n/b' 'west'\n",
      " 'south' 'north' '69690' 's/e' '70192' 'n/e' 'n / s' 'n b' '57429' '51925'\n",
      " 's/bv' 'w.b' \"bw's\" 'wwb' '0 fronm' 'n/w'\n",
      " 'no damage. no injuries cleared at 17:24 by cab 107.' 'n.w' '`sb' '51739'\n",
      " 'e/b.' 'east' '58' 'wb/w' 'sw' 'sb`' 'cab' '68164' '69050' 'w/n' 'w/e'\n",
      " '1' 'ee' 's/b`' 'bothway' '.' 'w/bs/b' 'a/b' '57428' 'op' 'eg' '68711'\n",
      " 'e.b' 'n`' '97' 's.b' 'n&s' '122' '5' '66241' 'ne' 'b/e' '73535' '68454'\n",
      " 're' '68021eb' '65485' 'all' 'sb only' 'sn' 'pm' '3' 'wn' 's/n' '145 min'\n",
      " '25' 'both directions' '70907' 'm/b' 'e/e' 'w?b' '68213' 'wv' 'e/n' 'b/s'\n",
      " '10:04' 'n?b' 's/' 's & n' 'u' 'e`' 's`' '0eb' 'lklk' 'se' '55102eb'\n",
      " 'e&s' 'b/w 6' 'n/r' '7937' '74360' '71482' 'n/bb' 'zn' '`s' 'b/w1' 'o/b'\n",
      " '51394' '71137' '72276eb' 'nd' 'oos' 'n\\\\b' 'w\\\\b' 'ebnb' '-' '95'\n",
      " 'w/b 5' '68258' 'b/ w' 'n/d' '`nb' 'b30.' '14' 'service' 'c' 'nb`'\n",
      " '72583' 'se/b' '10' '69705' '`eb' 'both' 'd' 's\\\\n' 's/bh' 's/b+'\n",
      " 'ferris' 'b?w' 'bus oos' '72664' 'nw' 'e?b' 'w/v' 's/w' '2' 'b/b' '`w/b'\n",
      " 'ze' '\"a\"' '55254' 'sbeb' 'be' '4' 'b /w' '`w' '68624' 'eb.' '22' '1141'\n",
      " 'following run advanced.' 'n\\\\s' 'ns' 'new bus # 10:42' 'b ways' '0pm'\n",
      " 'b.w' 'w/s' '`n/b' '0601' 'e/b3' 'bus ran i' 'na' '54982'\n",
      " 'placed nb at warden station at 6:55pm.' 'n\\\\w' '7pm' '7441' '7631' 'seb'\n",
      " '70701' 'compunded' '73925' '12' 'n/b+' '!' '71541' 'o' '65567wb' 'wb\\n2'\n",
      " '73553' 'n./b' '53940wb' 's b' 's/nb' 'n.b' '9' 'n/.b' '\\\\]\\\\' '1526'\n",
      " 'dn' '7' 'nb.' '22628' '`' 'am.' \"b/w's`\" 'b/w`' 'nbbw' '1652' '65297'\n",
      " 'n/bn' '1528' 'b/w6' 'bw`' 'b/ws' '71485' 'e /w' '70499' '56230' 'sb12'\n",
      " '17' '68695' '8369' '\\\\' '`wb' 'to short turn' 'm/n' 'sb3' 'g' '45 will'\n",
      " 's/bb/w' 'b/' 'ns/b' '23' 'eb\\\\' 'we/b' '50377' \"n'b\" 'n//b' 'cab 110'\n",
      " 'bw@' 'bw.' 'neil' 'door master seal' '52144' 'e/b1' 'n/b`' 'w=eb' 'eb3'\n",
      " 'ab' 'w//b' 'ss' 'es' 'mn' 'bus blocke' 'b w' 'service adjusted.' 'b//w'\n",
      " '8131' '87' '58857' '7571' '30' '8475' '57768' '57872' 'mechanical'\n",
      " '8558' '53073' '2008' 'w b' 'e/' 's29' '52032' 'b/w.' 'we' 'n-w' '0'\n",
      " '50450' 'w.' 'war' 'j' ';45a' '1824' '65578' '55669' '68262' '65598'\n",
      " '23844' 'wb`' 'placed' 'a' '60075' 'bus 8331' 's?b' 's/b e/b' '57412'\n",
      " '56277' 's/v' 'eb5' 'no trump' 'snb' '36' 'b / w' 'b/t' 'b\\\\w' 'eb`'\n",
      " 'sn/b' 'bus' '1706' '/nb' 'n/m' '51572' '65973' 'serveic adjusted.' '8'\n",
      " '8601' '13735' '58902' 'sb.' 'cab 1ca' '6:33p.' '65347' 'w/b.' 'b/ww'\n",
      " ';57' 'b/wys' 's/s' 'bn' 'n/bw' 'nbw' 'bt' '10n/b' '8597' '143 west a'\n",
      " '57191' '1291' '68777' '23714' '65446' 'wb/eb' '76507' ':' 'bn=====nb'\n",
      " 's1' 'nb 11' 'w`' 'operatot' 'sb/eb' 'garage' 'sdb' '56695' 'yd' '23087'\n",
      " 'e/ b' 'ples' 'w5' 'sw/b' 'bwe' 'ew' 'cleared' '1307' 'paced' 'en'\n",
      " '23358' 'at 1:40 pm.' '68427' 'wq' '76187' 'by'\n",
      " 'service adjusted to minimize delay.' '74458' '5s/b' 'wbw' 's.b.' '`e/b'\n",
      " 'steeles' 'reb' 'svb' '66702' '76105' '77107' 'eb72' '8602' 'n.' \"wb's\"\n",
      " '8192' 'b/we' '1:00 pm' 'mins' 'nbsb' 'p' '66728' '1214' 'ws' 'e./b'\n",
      " '22558' 'dw' 'w (s)' 's/b?' '68797' 'wb.' 'oos 15' '51740' 'gap'\n",
      " 's`jane and lawrence' '75162' 'ww' 'finch stn' 'web' '57804' '72431'\n",
      " 'bbw' '1519' '56261' 's/b from lawrencea' 'e\\ne' 'nj' 'enb' 'e./w'\n",
      " 'vehicle changed off by divisional equipment #8445.' '71521'\n",
      " 'service adjusted' 'ew/b' '75168' '76223' '20s/b' '55277' '76647' '65424'\n",
      " '73961' 'n/b/b' '57197' 'n320' '. e' '1664' '73870' '52879' 'n/b/w' 'e13'\n",
      " 'regular service.' 'nm' '1308' 'e/b 1st bus #1525, 3 run at 6.00 pm'\n",
      " ':34' '77156' '29' 'ref' '74780' 'rad bus' 'e.' '22642' '121' 'eeb'\n",
      " '71641' 'pstn' '71181' 'b/.w' '77389' '2 stops missed.' '73647'\n",
      " 'oos 77 min' 'nn' ';00' ';' '19' '15700' ',n/b' '801' 'c79417941' '47'\n",
      " '450' 'pi' 'wests' 'eq' \"n/'b\" '77245' '21693' 'da' 'b`' 'er' 'placed bc'\n",
      " '`n' '1800' 'bs' 'kee' ';30 pm' '40' '8332' '3195' '1370' '56688' '78683'\n",
      " 'bww' '6800' 'sd' 'roadway reopened at: xxxx' '66n' '8453' '37' 'sq' 'bv'\n",
      " 'ewb' '35' 'b/w/b' ';22' '18' '78612' 'see' '68134' 'swb' '07' '52038'\n",
      " 'fis' 'note' 'used rad bus 8180' ';58' 'n/sb' 'v' '69677' 'n1' 'note:'\n",
      " '15' '8620' 's8' '320' 'leb'\n",
      " '@ 16:43 resumed service eb from arrow a7 bartor' '102' '20' '58936'\n",
      " '74406' 'z' 'operator' 'uti' '53122'\n",
      " 'rad utilized to partially cover the trip tiomes.' 'mino' 'q' 'n9'\n",
      " 'all runs cl' 'rad 8304' 'first'\n",
      " 'bus placed back in service at finch station for' '.s' '1416'\n",
      " 'bus out of service for xxx minutes and placed for service at xxxxxxxxx'\n",
      " '50504' 'inc 7603241' '58913' 'bnw' 'chan' 'st' 'rad' 'service adjsuted.'\n",
      " 'e/bw' 'cab 104, ems 900//  checked and relieved.'\n",
      " 'gap of 10 minutes to 5 run -' '3104' '60' '70977' 'roadwy' '3e'\n",
      " 'e/b18:52' 'l' 't' '/' 'i' '6' 'm' 'h']\n"
     ]
    },
    {
     "ename": "TypeError",
     "evalue": "Object of type ndarray is not JSON serializable",
     "output_type": "error",
     "traceback": [
      "\u001b[0;31m---------------------------------------------------------------------------\u001b[0m",
      "\u001b[0;31mTypeError\u001b[0m                                 Traceback (most recent call last)",
      "Cell \u001b[0;32mIn[49], line 1\u001b[0m\n\u001b[0;32m----> 1\u001b[0m data_dict \u001b[38;5;241m=\u001b[39m \u001b[43mpre_processing_full_ttc_csv\u001b[49m\u001b[43m(\u001b[49m\u001b[38;5;124;43m\"\u001b[39;49m\u001b[38;5;124;43m./data/delays/bus-delay-final copy.csv\u001b[39;49m\u001b[38;5;124;43m\"\u001b[39;49m\u001b[43m,\u001b[49m\u001b[43m \u001b[49m\u001b[43mdict_file_name\u001b[49m\u001b[38;5;241;43m=\u001b[39;49m\u001b[43m \u001b[49m\u001b[38;5;124;43m\"\u001b[39;49m\u001b[38;5;124;43m./data/delays/bus-delay-data.json\u001b[39;49m\u001b[38;5;124;43m\"\u001b[39;49m\u001b[43m)\u001b[49m\n",
      "Cell \u001b[0;32mIn[48], line 24\u001b[0m, in \u001b[0;36mpre_processing_full_ttc_csv\u001b[0;34m(file_name, dict_file_name)\u001b[0m\n\u001b[1;32m     21\u001b[0m df\u001b[38;5;241m.\u001b[39mto_csv(file_name, index\u001b[38;5;241m=\u001b[39m\u001b[38;5;124m'\u001b[39m\u001b[38;5;124mDateTime\u001b[39m\u001b[38;5;124m'\u001b[39m)\n\u001b[1;32m     23\u001b[0m \u001b[38;5;28;01mwith\u001b[39;00m \u001b[38;5;28mopen\u001b[39m(dict_file_name, \u001b[38;5;124m\"\u001b[39m\u001b[38;5;124mw\u001b[39m\u001b[38;5;124m\"\u001b[39m) \u001b[38;5;28;01mas\u001b[39;00m outfile: \n\u001b[0;32m---> 24\u001b[0m     \u001b[43mjson\u001b[49m\u001b[38;5;241;43m.\u001b[39;49m\u001b[43mdump\u001b[49m\u001b[43m(\u001b[49m\u001b[43mdata_dict\u001b[49m\u001b[43m,\u001b[49m\u001b[43m \u001b[49m\u001b[43moutfile\u001b[49m\u001b[43m)\u001b[49m\n\u001b[1;32m     26\u001b[0m \u001b[38;5;28;01mreturn\u001b[39;00m data_dict\n",
      "File \u001b[0;32m/opt/anaconda3/envs/colab/lib/python3.13/json/__init__.py:179\u001b[0m, in \u001b[0;36mdump\u001b[0;34m(obj, fp, skipkeys, ensure_ascii, check_circular, allow_nan, cls, indent, separators, default, sort_keys, **kw)\u001b[0m\n\u001b[1;32m    173\u001b[0m     iterable \u001b[38;5;241m=\u001b[39m \u001b[38;5;28mcls\u001b[39m(skipkeys\u001b[38;5;241m=\u001b[39mskipkeys, ensure_ascii\u001b[38;5;241m=\u001b[39mensure_ascii,\n\u001b[1;32m    174\u001b[0m         check_circular\u001b[38;5;241m=\u001b[39mcheck_circular, allow_nan\u001b[38;5;241m=\u001b[39mallow_nan, indent\u001b[38;5;241m=\u001b[39mindent,\n\u001b[1;32m    175\u001b[0m         separators\u001b[38;5;241m=\u001b[39mseparators,\n\u001b[1;32m    176\u001b[0m         default\u001b[38;5;241m=\u001b[39mdefault, sort_keys\u001b[38;5;241m=\u001b[39msort_keys, \u001b[38;5;241m*\u001b[39m\u001b[38;5;241m*\u001b[39mkw)\u001b[38;5;241m.\u001b[39miterencode(obj)\n\u001b[1;32m    177\u001b[0m \u001b[38;5;66;03m# could accelerate with writelines in some versions of Python, at\u001b[39;00m\n\u001b[1;32m    178\u001b[0m \u001b[38;5;66;03m# a debuggability cost\u001b[39;00m\n\u001b[0;32m--> 179\u001b[0m \u001b[43m\u001b[49m\u001b[38;5;28;43;01mfor\u001b[39;49;00m\u001b[43m \u001b[49m\u001b[43mchunk\u001b[49m\u001b[43m \u001b[49m\u001b[38;5;129;43;01min\u001b[39;49;00m\u001b[43m \u001b[49m\u001b[43miterable\u001b[49m\u001b[43m:\u001b[49m\n\u001b[1;32m    180\u001b[0m \u001b[43m    \u001b[49m\u001b[43mfp\u001b[49m\u001b[38;5;241;43m.\u001b[39;49m\u001b[43mwrite\u001b[49m\u001b[43m(\u001b[49m\u001b[43mchunk\u001b[49m\u001b[43m)\u001b[49m\n",
      "File \u001b[0;32m/opt/anaconda3/envs/colab/lib/python3.13/json/encoder.py:432\u001b[0m, in \u001b[0;36m_make_iterencode.<locals>._iterencode\u001b[0;34m(o, _current_indent_level)\u001b[0m\n\u001b[1;32m    430\u001b[0m     \u001b[38;5;28;01myield from\u001b[39;00m _iterencode_list(o, _current_indent_level)\n\u001b[1;32m    431\u001b[0m \u001b[38;5;28;01melif\u001b[39;00m \u001b[38;5;28misinstance\u001b[39m(o, \u001b[38;5;28mdict\u001b[39m):\n\u001b[0;32m--> 432\u001b[0m     \u001b[38;5;28;01myield from\u001b[39;00m _iterencode_dict(o, _current_indent_level)\n\u001b[1;32m    433\u001b[0m \u001b[38;5;28;01melse\u001b[39;00m:\n\u001b[1;32m    434\u001b[0m     \u001b[38;5;28;01mif\u001b[39;00m markers \u001b[38;5;129;01mis\u001b[39;00m \u001b[38;5;129;01mnot\u001b[39;00m \u001b[38;5;28;01mNone\u001b[39;00m:\n",
      "File \u001b[0;32m/opt/anaconda3/envs/colab/lib/python3.13/json/encoder.py:406\u001b[0m, in \u001b[0;36m_make_iterencode.<locals>._iterencode_dict\u001b[0;34m(dct, _current_indent_level)\u001b[0m\n\u001b[1;32m    404\u001b[0m         \u001b[38;5;28;01melse\u001b[39;00m:\n\u001b[1;32m    405\u001b[0m             chunks \u001b[38;5;241m=\u001b[39m _iterencode(value, _current_indent_level)\n\u001b[0;32m--> 406\u001b[0m         \u001b[38;5;28;01myield from\u001b[39;00m chunks\n\u001b[1;32m    407\u001b[0m \u001b[38;5;28;01mif\u001b[39;00m newline_indent \u001b[38;5;129;01mis\u001b[39;00m \u001b[38;5;129;01mnot\u001b[39;00m \u001b[38;5;28;01mNone\u001b[39;00m:\n\u001b[1;32m    408\u001b[0m     _current_indent_level \u001b[38;5;241m-\u001b[39m\u001b[38;5;241m=\u001b[39m \u001b[38;5;241m1\u001b[39m\n",
      "File \u001b[0;32m/opt/anaconda3/envs/colab/lib/python3.13/json/encoder.py:439\u001b[0m, in \u001b[0;36m_make_iterencode.<locals>._iterencode\u001b[0;34m(o, _current_indent_level)\u001b[0m\n\u001b[1;32m    437\u001b[0m         \u001b[38;5;28;01mraise\u001b[39;00m \u001b[38;5;167;01mValueError\u001b[39;00m(\u001b[38;5;124m\"\u001b[39m\u001b[38;5;124mCircular reference detected\u001b[39m\u001b[38;5;124m\"\u001b[39m)\n\u001b[1;32m    438\u001b[0m     markers[markerid] \u001b[38;5;241m=\u001b[39m o\n\u001b[0;32m--> 439\u001b[0m o \u001b[38;5;241m=\u001b[39m \u001b[43m_default\u001b[49m\u001b[43m(\u001b[49m\u001b[43mo\u001b[49m\u001b[43m)\u001b[49m\n\u001b[1;32m    440\u001b[0m \u001b[38;5;28;01myield from\u001b[39;00m _iterencode(o, _current_indent_level)\n\u001b[1;32m    441\u001b[0m \u001b[38;5;28;01mif\u001b[39;00m markers \u001b[38;5;129;01mis\u001b[39;00m \u001b[38;5;129;01mnot\u001b[39;00m \u001b[38;5;28;01mNone\u001b[39;00m:\n",
      "File \u001b[0;32m/opt/anaconda3/envs/colab/lib/python3.13/json/encoder.py:180\u001b[0m, in \u001b[0;36mJSONEncoder.default\u001b[0;34m(self, o)\u001b[0m\n\u001b[1;32m    161\u001b[0m \u001b[38;5;28;01mdef\u001b[39;00m\u001b[38;5;250m \u001b[39m\u001b[38;5;21mdefault\u001b[39m(\u001b[38;5;28mself\u001b[39m, o):\n\u001b[1;32m    162\u001b[0m \u001b[38;5;250m    \u001b[39m\u001b[38;5;124;03m\"\"\"Implement this method in a subclass such that it returns\u001b[39;00m\n\u001b[1;32m    163\u001b[0m \u001b[38;5;124;03m    a serializable object for ``o``, or calls the base implementation\u001b[39;00m\n\u001b[1;32m    164\u001b[0m \u001b[38;5;124;03m    (to raise a ``TypeError``).\u001b[39;00m\n\u001b[0;32m   (...)\u001b[0m\n\u001b[1;32m    178\u001b[0m \n\u001b[1;32m    179\u001b[0m \u001b[38;5;124;03m    \"\"\"\u001b[39;00m\n\u001b[0;32m--> 180\u001b[0m     \u001b[38;5;28;01mraise\u001b[39;00m \u001b[38;5;167;01mTypeError\u001b[39;00m(\u001b[38;5;124mf\u001b[39m\u001b[38;5;124m'\u001b[39m\u001b[38;5;124mObject of type \u001b[39m\u001b[38;5;132;01m{\u001b[39;00mo\u001b[38;5;241m.\u001b[39m\u001b[38;5;18m__class__\u001b[39m\u001b[38;5;241m.\u001b[39m\u001b[38;5;18m__name__\u001b[39m\u001b[38;5;132;01m}\u001b[39;00m\u001b[38;5;124m \u001b[39m\u001b[38;5;124m'\u001b[39m\n\u001b[1;32m    181\u001b[0m                     \u001b[38;5;124mf\u001b[39m\u001b[38;5;124m'\u001b[39m\u001b[38;5;124mis not JSON serializable\u001b[39m\u001b[38;5;124m'\u001b[39m)\n",
      "\u001b[0;31mTypeError\u001b[0m: Object of type ndarray is not JSON serializable"
     ]
    }
   ],
   "source": [
    "data_dict = pre_processing_full_ttc_csv(\"./data/delays/bus-delay-final copy.csv\", dict_file_name= \"./data/delays/bus-delay-data.json\")"
   ]
  },
  {
   "cell_type": "code",
   "execution_count": null,
   "metadata": {},
   "outputs": [],
   "source": []
  }
 ],
 "metadata": {
  "kernelspec": {
   "display_name": "colab",
   "language": "python",
   "name": "python3"
  },
  "language_info": {
   "codemirror_mode": {
    "name": "ipython",
    "version": 3
   },
   "file_extension": ".py",
   "mimetype": "text/x-python",
   "name": "python",
   "nbconvert_exporter": "python",
   "pygments_lexer": "ipython3",
   "version": "3.13.1"
  }
 },
 "nbformat": 4,
 "nbformat_minor": 2
}
