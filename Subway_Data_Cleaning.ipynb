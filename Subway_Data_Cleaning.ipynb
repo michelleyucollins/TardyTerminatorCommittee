{
 "cells": [
  {
   "cell_type": "markdown",
   "metadata": {},
   "source": [
    "# On this Notebook\n",
    "creation date: February 23rd, 2025\n",
    "\n",
    "This notebook is used to gain a preliminary understanding of the subway data, and then clean the data to correct for errors and any differences in spelling when the data was inputted."
   ]
  },
  {
   "cell_type": "code",
   "execution_count": 35,
   "metadata": {},
   "outputs": [],
   "source": [
    "import pandas as pd \n",
    "from collections import Counter\n",
    "import jellyfish\n",
    "\n",
    "df = pd.read_csv('data/delays/subway/ttc-subway-delay-data-2014-2024.csv')"
   ]
  },
  {
   "cell_type": "markdown",
   "metadata": {},
   "source": [
    "## Subway Lines\n",
    "Takes a look at which lines are involved, and if there are any inconsistencies in spelling.\n",
    "\n",
    "### Lines Code Info\n",
    "- YU: Yonge-University Line 1   | Terminal Stations: Finch and Vaughan Metropolitan Centre\n",
    "- BD: Bloor-Danforth Line 2     | Terminal Stations: Kipling and Kennedy\n",
    "- SRT: Scarborough Line 3       | Terminal Stations: Kennedy and McCowan | **Note, this line is no longer open**\n",
    "- SHP: Sheppard Line 4          | Terminal Stations: Sheppard-Yonge and Don Mills"
   ]
  },
  {
   "cell_type": "code",
   "execution_count": 36,
   "metadata": {},
   "outputs": [
    {
     "name": "stdout",
     "output_type": "stream",
     "text": [
      "Line\n",
      "YU              107901\n",
      "BD               95079\n",
      "SHP               7723\n",
      "SRT               7667\n",
      "YU/BD             2890\n",
      "                 ...  \n",
      "YU - BD LINE         1\n",
      "60                   1\n",
      "9 BELLAMY            1\n",
      "YU BD                1\n",
      "20 CLIFFSIDE         1\n",
      "Name: count, Length: 95, dtype: int64\n"
     ]
    }
   ],
   "source": [
    "print(df['Line'].value_counts())"
   ]
  },
  {
   "cell_type": "markdown",
   "metadata": {},
   "source": [
    "Use counter to determine the frequencies of different lines"
   ]
  },
  {
   "cell_type": "code",
   "execution_count": 37,
   "metadata": {},
   "outputs": [
    {
     "name": "stdout",
     "output_type": "stream",
     "text": [
      "Counter({'YU': 107901, 'BD': 95079, 'SHP': 7723, 'SRT': 7667, 'YU/BD': 2890, nan: 699, 'YU / BD': 92, 'B/D': 63, 'YUS': 39, 'YU/ BD': 33, 'BD/YU': 21, 'YU & BD': 18, 'YUS/BD': 18, '999': 9, 'BD LINE': 6, 'BD/YUS': 5, 'YU - BD': 5, 'YU-BD': 4, 'YU/BD LINES': 4, 'YU/BD LINE': 3, 'SHEP': 3, 'BLOOR DANFORTH': 2, '95 YORK MILLS': 2, '36 FINCH WEST': 2, '29 DUFFERIN': 2, '510 SPADINA': 2, '11 BAYVIEW': 2, 'YU LINE': 2, '16 MCCOWAN': 2, '35 JANE': 2, 'BD LINE 2': 2, '31 GREENWOOD': 1, '60': 1, '9 BELLAMY': 1, '45 KIPLING': 1, '504': 1, '500': 1, 'SHEPPARD': 1, '104 FAYWOOD': 1, '60 STEELES WEST': 1, '25 DON MILLS': 1, '555': 1, '126 CHRISTIE': 1, '37 ISLINGTON': 1, '504 KING': 1, '116 MORNINGSIDE': 1, '73 ROYAL YORK': 1, 'BLOOR DANFORTH LINE': 1, 'YU/SHEP': 1, '66': 1, '341 KEELE': 1, '63 OSSINGTON': 1, '32 EGLINTON WEST': 1, '129 MCCOWAN NORTH': 1, 'YU BD': 1, 'YU - BD LINE': 1, '85 SHEPPARD EAST': 1, 'BLOOR DANFORTH LINES': 1, 'YONGE UNIVERSITY SERVI': 1, '704 RAD BUS': 1, 'YU\\\\BD': 1, '46 MARTIN GROVE': 1, 'RT': 1, 'BLOOR-DANFORTH': 1, '134 PROGRESS': 1, '985 SHEPPARD EAST EXPR': 1, '22 COXWELL': 1, '100 FLEMINGDON PARK': 1, 'BLOOR - DANFORTH': 1, '40 JUNCTION-DUNDAS WES': 1, '71 RUNNYMEDE': 1, '102 MARKHAM ROAD': 1, 'YUS/DB': 1, 'YONGE/UNIVERSITY/BLOOR': 1, 'YUS & BD': 1, 'YU & BD LINES': 1, '52': 1, '41 KEELE': 1, 'Y/BD': 1, 'YUS AND BD': 1, '69 WARDEN SOUTH': 1, 'LINE 2 SHUTTLE': 1, '57 MIDLAND': 1, '96 WILSON': 1, '506 CARLTON': 1, 'BLOOR DANFORTH & YONGE': 1, '77 SWANSEA': 1, 'LINE 1': 1, 'TRACK LEVEL ACTIVITY': 1, '109 RANEE': 1, 'ONGE-UNIVERSITY AND BL': 1, 'YU/BD/SHP': 1, 'BD/ YUS': 1, 'BD/ YU': 1, 'BD / YU': 1, '20 CLIFFSIDE': 1})\n"
     ]
    }
   ],
   "source": [
    "# find the set of all subway lines\n",
    "lines = df['Line'].tolist()\n",
    "lines = Counter(lines)\n",
    "print(lines)"
   ]
  },
  {
   "cell_type": "markdown",
   "metadata": {},
   "source": [
    "Here, the Yonge / Bloor lines' spelling needs to be unified and the Bloor line needs to be unified as well.\n",
    "\n",
    "Note also that there seem to be a negligible amount of nan and miscellaneous lines. These could be removed, so we focus on the main lines as well."
   ]
  },
  {
   "cell_type": "code",
   "execution_count": 38,
   "metadata": {},
   "outputs": [
    {
     "data": {
      "text/plain": [
       "Line Number\n",
       "LINE 1               107944\n",
       "LINE 2                95160\n",
       "LINE 4                 7723\n",
       "LINE 3                 7667\n",
       "LINE 1 and LINE 2      3103\n",
       "Name: count, dtype: int64"
      ]
     },
     "execution_count": 38,
     "metadata": {},
     "output_type": "execute_result"
    }
   ],
   "source": [
    "def map_lines(line):\n",
    "    # if line ins't a string, return 'Other'\n",
    "    if not isinstance(line, str):\n",
    "        return 'Other'\n",
    "    if 'YU' in line and 'BD' in line:\n",
    "        return 'LINE 1 and LINE 2'\n",
    "    elif 'YU' in line:\n",
    "        return 'LINE 1'\n",
    "    elif 'B' in line and 'D' in line:\n",
    "        return 'LINE 2'\n",
    "    elif 'SHP' in line:\n",
    "        return 'LINE 4'\n",
    "    elif 'SRT' in line:\n",
    "        return 'LINE 3'\n",
    "    else:\n",
    "        return 'Other'\n",
    "\n",
    "df['Line Number'] = df['Line'].map(map_lines)\n",
    "df = df[df['Line Number'] != 'Other']\n",
    "df['Line Number'].value_counts()"
   ]
  },
  {
   "cell_type": "code",
   "execution_count": 39,
   "metadata": {},
   "outputs": [
    {
     "name": "stdout",
     "output_type": "stream",
     "text": [
      "There are 144264 rows with 0 min delay and 0 min gap\n"
     ]
    }
   ],
   "source": [
    "test = df[(df['Min Delay'] == 0) & (df['Min Gap'] == 0)]\n",
    "print(f\"There are {test.shape[0]} rows with 0 min delay and 0 min gap\")"
   ]
  },
  {
   "cell_type": "markdown",
   "metadata": {},
   "source": [
    "## Delay Code mapping\n",
    "\n",
    "Maps the delay codes to their respective causes in words."
   ]
  },
  {
   "cell_type": "code",
   "execution_count": 40,
   "metadata": {},
   "outputs": [],
   "source": [
    "codes = pd.read_csv('data/delays/subway/subway_delay_code.csv')\n",
    "delay_codes = dict(zip(codes['SUB RMENU CODE'], codes['CODE DESCRIPTION']))\n",
    "\n",
    "def delay_causes(code):\n",
    "    if code not in delay_codes:\n",
    "        return 'Unrecognized Code'\n",
    "    return delay_codes[code]\n",
    "\n",
    "df['Cause for Delay'] = df['Code'].map(delay_causes)"
   ]
  },
  {
   "cell_type": "markdown",
   "metadata": {},
   "source": [
    "## Bound\n",
    "\n",
    "Clean out the bounds that do not make sense (the ones that are not N, W, E, or S). After much research, it still does not appear Y, R, 5, or 0 could represent anything. **Note there's quite a few 'B' bounds. I think this might indicate both directions experienced delay.\n",
    "\n",
    "\n",
    "!!! **This part is not finished yet**"
   ]
  },
  {
   "cell_type": "code",
   "execution_count": 44,
   "metadata": {},
   "outputs": [],
   "source": [
    "df = pd.read_csv('data/delays/subway/ttc-subway-delay-data-2014-2024.csv')"
   ]
  },
  {
   "cell_type": "code",
   "execution_count": 46,
   "metadata": {},
   "outputs": [
    {
     "data": {
      "text/html": [
       "<div>\n",
       "<style scoped>\n",
       "    .dataframe tbody tr th:only-of-type {\n",
       "        vertical-align: middle;\n",
       "    }\n",
       "\n",
       "    .dataframe tbody tr th {\n",
       "        vertical-align: top;\n",
       "    }\n",
       "\n",
       "    .dataframe thead th {\n",
       "        text-align: right;\n",
       "    }\n",
       "</style>\n",
       "<table border=\"1\" class=\"dataframe\">\n",
       "  <thead>\n",
       "    <tr style=\"text-align: right;\">\n",
       "      <th></th>\n",
       "      <th>Datetime</th>\n",
       "      <th>Day</th>\n",
       "      <th>Station</th>\n",
       "      <th>Code</th>\n",
       "      <th>Min Delay</th>\n",
       "      <th>Min Gap</th>\n",
       "      <th>Bound</th>\n",
       "      <th>Line</th>\n",
       "      <th>Vehicle</th>\n",
       "    </tr>\n",
       "  </thead>\n",
       "  <tbody>\n",
       "    <tr>\n",
       "      <th>0</th>\n",
       "      <td>1/1/2014 0:21:00</td>\n",
       "      <td>Wednesday</td>\n",
       "      <td>VICTORIA PARK STATION</td>\n",
       "      <td>MUPR1</td>\n",
       "      <td>55</td>\n",
       "      <td>60</td>\n",
       "      <td>W</td>\n",
       "      <td>BD</td>\n",
       "      <td>5111</td>\n",
       "    </tr>\n",
       "    <tr>\n",
       "      <th>1</th>\n",
       "      <td>1/1/2014 2:06:00</td>\n",
       "      <td>Wednesday</td>\n",
       "      <td>HIGH PARK STATION</td>\n",
       "      <td>SUDP</td>\n",
       "      <td>3</td>\n",
       "      <td>7</td>\n",
       "      <td>W</td>\n",
       "      <td>BD</td>\n",
       "      <td>5001</td>\n",
       "    </tr>\n",
       "    <tr>\n",
       "      <th>2</th>\n",
       "      <td>1/1/2014 2:40:00</td>\n",
       "      <td>Wednesday</td>\n",
       "      <td>SHEPPARD STATION</td>\n",
       "      <td>MUNCA</td>\n",
       "      <td>0</td>\n",
       "      <td>0</td>\n",
       "      <td>NaN</td>\n",
       "      <td>YU</td>\n",
       "      <td>0</td>\n",
       "    </tr>\n",
       "    <tr>\n",
       "      <th>3</th>\n",
       "      <td>1/1/2014 3:10:00</td>\n",
       "      <td>Wednesday</td>\n",
       "      <td>LANSDOWNE STATION</td>\n",
       "      <td>SUDP</td>\n",
       "      <td>3</td>\n",
       "      <td>8</td>\n",
       "      <td>W</td>\n",
       "      <td>BD</td>\n",
       "      <td>5116</td>\n",
       "    </tr>\n",
       "    <tr>\n",
       "      <th>4</th>\n",
       "      <td>1/1/2014 3:20:00</td>\n",
       "      <td>Wednesday</td>\n",
       "      <td>BLOOR STATION</td>\n",
       "      <td>MUSAN</td>\n",
       "      <td>5</td>\n",
       "      <td>10</td>\n",
       "      <td>S</td>\n",
       "      <td>YU</td>\n",
       "      <td>5386</td>\n",
       "    </tr>\n",
       "  </tbody>\n",
       "</table>\n",
       "</div>"
      ],
      "text/plain": [
       "           Datetime        Day                Station   Code  Min Delay  \\\n",
       "0  1/1/2014 0:21:00  Wednesday  VICTORIA PARK STATION  MUPR1         55   \n",
       "1  1/1/2014 2:06:00  Wednesday      HIGH PARK STATION   SUDP          3   \n",
       "2  1/1/2014 2:40:00  Wednesday       SHEPPARD STATION  MUNCA          0   \n",
       "3  1/1/2014 3:10:00  Wednesday      LANSDOWNE STATION   SUDP          3   \n",
       "4  1/1/2014 3:20:00  Wednesday          BLOOR STATION  MUSAN          5   \n",
       "\n",
       "   Min Gap Bound Line  Vehicle  \n",
       "0       60     W   BD     5111  \n",
       "1        7     W   BD     5001  \n",
       "2        0   NaN   YU        0  \n",
       "3        8     W   BD     5116  \n",
       "4       10     S   YU     5386  "
      ]
     },
     "execution_count": 46,
     "metadata": {},
     "output_type": "execute_result"
    }
   ],
   "source": [
    "df.head()"
   ]
  },
  {
   "cell_type": "code",
   "execution_count": 42,
   "metadata": {},
   "outputs": [
    {
     "name": "stdout",
     "output_type": "stream",
     "text": [
      "(221597, 11)\n"
     ]
    },
    {
     "data": {
      "text/plain": [
       "Bound\n",
       "S    46637\n",
       "W    39885\n",
       "N    39565\n",
       "E    37706\n",
       "B      311\n",
       "Name: count, dtype: int64"
      ]
     },
     "execution_count": 42,
     "metadata": {},
     "output_type": "execute_result"
    }
   ],
   "source": [
    "# drop rows if their bounds are not N, W, E, S\n",
    "print(df.shape)\n",
    "df = df[df['Bound'].isin(['N', 'W', 'E', 'S', 'B'])]\n",
    "df['Bound'].value_counts()"
   ]
  },
  {
   "cell_type": "markdown",
   "metadata": {},
   "source": [
    "## Station Name Cleaning\n",
    "\n",
    "Makes it so that the station names are control. Corrects for any misspellings or differing names. Does this by using matching with list of existing stations based on lines."
   ]
  },
  {
   "cell_type": "markdown",
   "metadata": {},
   "source": [
    "Read in the station names"
   ]
  },
  {
   "cell_type": "code",
   "execution_count": 23,
   "metadata": {},
   "outputs": [
    {
     "name": "stdout",
     "output_type": "stream",
     "text": [
      "{'LINE 1': ['FINCH', 'NORTH YORK CENTRE', 'SHEPPARD-YONGE', 'YORK MILLS', 'LAWRENCE', 'EGLINTON', 'DAVISVILLE', 'ST CLAIR', 'SUMMERHILL', 'ROSEDALE', 'BLOOR', 'WELLESLEY', 'COLLEGE', 'DUNDAS', 'QUEEN', 'KING', 'UNION', 'ST ANDREW', 'OSGOODE', 'ST PATRICK', \"QUEEN'S PARK\", 'MUSEUM', 'ST GEORGE', 'SPADINA', 'DUPONT', 'ST CLAIR WEST', 'EGLINTON WEST', 'GLENCAIRN', 'LAWRENCE WEST', 'YORKDALE', 'WILSON', 'SHEPPARD WEST', 'DOWNSVIEW PARK', 'FINCH WEST', 'YORK UNIVERSITY', 'PIONEER VILLAGE', 'HIGHWAY 407', 'VAUGHAN METROPOLITAN CENTRE'], 'LINE 2': ['KIPLING', 'ISLINGTON', 'ROYAL YORK', 'OLD MILL', 'JANE', 'RUNNYMEDE', 'HIGH PARK', 'KEELE', 'DUNDAS WEST', 'LANSDOWNE', 'DUFFERIN', 'OSSINGTON', 'CHRISTIE', 'BATHURST', 'SPADINA', 'ST GEORGE', 'BAY', 'BLOOR-YONGE', 'SHERBOURNE', 'CASTLE FRANK', 'BROADVIEW', 'CHESTER', 'PAPE', 'DONLANDS', 'GREENWOOD', 'COXWELL', 'WOODBINE', 'MAIN STREET', 'VICTORIA PARK', 'WARDEN', 'KENNEDY'], 'LINE 3': ['KENNEDY', 'LAWRENCE EAST', 'ELLESMERE', 'MIDLAND', 'SCARBOROUGH CENTRE', 'MCCOWAN'], 'LINE 4': ['SHEPPARD-YONGE', 'BAYVIEW', 'BESSARION', 'LESLIE', 'DON MILLS']}\n"
     ]
    }
   ],
   "source": [
    "stations = {}\n",
    "\n",
    "for i in range(1, 5):\n",
    "    with open(f'data/delays/subway/stations_on_lines/line{i}.txt', 'r') as f:\n",
    "        line = f.read().splitlines()[1:]\n",
    "    stations[f'LINE {i}'] = line\n",
    "\n",
    "print(stations)"
   ]
  },
  {
   "cell_type": "markdown",
   "metadata": {},
   "source": [
    "Define the function for fuzzy matching. Note we will use jaro_winkler_similarity, which puts emphasis on the words at the start (to handle cases like UNION TO KING, where both UNION and KING as stations)"
   ]
  },
  {
   "cell_type": "code",
   "execution_count": 24,
   "metadata": {},
   "outputs": [],
   "source": [
    "def map_stations(line, station):\n",
    "    station = station.replace(\"STATION\", \"\").strip()\n",
    "    best_match = 'NO MATCH'\n",
    "    highest_score = 0.8\n",
    "\n",
    "    if line == \"LINE 1 and LINE 2\":\n",
    "        line = \"LINE 1\"\n",
    "\n",
    "    for s in stations[line]:\n",
    "        if ('WEST' in s and 'WEST' not in station) or ('WEST' not in s and 'WEST' in station):\n",
    "            continue\n",
    "\n",
    "        score = jellyfish.jaro_winkler_similarity(s, station)\n",
    "        if score > highest_score:\n",
    "            highest_score = score\n",
    "            best_match = s\n",
    "        \n",
    "    return best_match"
   ]
  },
  {
   "cell_type": "code",
   "execution_count": 25,
   "metadata": {},
   "outputs": [],
   "source": [
    "df['Station Name'] = df.apply(lambda x: map_stations(x['Line Number'], x['Station']), axis=1)"
   ]
  },
  {
   "cell_type": "code",
   "execution_count": 26,
   "metadata": {},
   "outputs": [
    {
     "name": "stdout",
     "output_type": "stream",
     "text": [
      "Station\n",
      "YONGE BD STATION          2870\n",
      "YONGE SHP STATION         1187\n",
      "WARDEN STATION              86\n",
      "BLOOR DANFORTH SUBWAY       55\n",
      "YONGE SHEP STATION          37\n",
      "                          ... \n",
      "MCBRIEN BUIDING              1\n",
      "W/O CASTLE FRANK TO GR       1\n",
      "CHURCH EMERGENCY EXIT        1\n",
      "YONGE TO COXWELL STATI       1\n",
      "HOSTLER 2 WILSON YARD        1\n",
      "Name: count, Length: 186, dtype: int64\n",
      "(4639, 12)\n"
     ]
    }
   ],
   "source": [
    "test = df[df['Station Name'] == 'NO MATCH'] \n",
    "print(test['Station'].value_counts())\n",
    "print(test.shape)\n",
    "test.to_csv('data/delays/subway/cleaned_data/subway_delays_no_match.csv', index=False)\n",
    "df.to_csv('data/delays/subway/cleaned_data/subway_delays.csv', index=False)"
   ]
  },
  {
   "cell_type": "markdown",
   "metadata": {},
   "source": [
    "## Delay and Min Gap Both Zero\n",
    "\n",
    "There seems to be a large number of data points where both min delay and in gap are 0."
   ]
  },
  {
   "cell_type": "code",
   "execution_count": 14,
   "metadata": {},
   "outputs": [
    {
     "name": "stdout",
     "output_type": "stream",
     "text": [
      "There are 87591 rows with 0 min delay and 0 min gap\n"
     ]
    }
   ],
   "source": [
    "test = df[(df['Min Delay'] == 0) & (df['Min Gap'] == 0)]\n",
    "print(f\"There are {test.shape[0]} rows with 0 min delay and 0 min gap\")"
   ]
  }
 ],
 "metadata": {
  "kernelspec": {
   "display_name": "base",
   "language": "python",
   "name": "python3"
  },
  "language_info": {
   "codemirror_mode": {
    "name": "ipython",
    "version": 3
   },
   "file_extension": ".py",
   "mimetype": "text/x-python",
   "name": "python",
   "nbconvert_exporter": "python",
   "pygments_lexer": "ipython3",
   "version": "3.12.7"
  }
 },
 "nbformat": 4,
 "nbformat_minor": 2
}
